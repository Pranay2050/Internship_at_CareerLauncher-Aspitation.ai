{
  "nbformat": 4,
  "nbformat_minor": 0,
  "metadata": {
    "colab": {
      "name": "Tesla.ipynb",
      "provenance": [],
      "collapsed_sections": []
    },
    "kernelspec": {
      "name": "python3",
      "display_name": "Python 3"
    }
  },
  "cells": [
    {
      "cell_type": "markdown",
      "metadata": {
        "id": "bwkgJzMGfPe2",
        "colab_type": "text"
      },
      "source": [
        "Import python helpers"
      ]
    },
    {
      "cell_type": "code",
      "metadata": {
        "id": "auAXuseAfLoe",
        "colab_type": "code",
        "colab": {}
      },
      "source": [
        "import pandas as pd"
      ],
      "execution_count": null,
      "outputs": []
    },
    {
      "cell_type": "markdown",
      "metadata": {
        "id": "3VAxkGlQfCxp",
        "colab_type": "text"
      },
      "source": [
        "1.1 Import datafile\n"
      ]
    },
    {
      "cell_type": "code",
      "metadata": {
        "id": "NNg9h0hYe8qG",
        "colab_type": "code",
        "colab": {
          "base_uri": "https://localhost:8080/",
          "height": 168
        },
        "outputId": "2a206f3f-bb0f-465c-e314-04e727ec8177"
      },
      "source": [
        "df = pd.read_csv(\"TSLA.csv\")\n",
        "print(df.describe())"
      ],
      "execution_count": null,
      "outputs": [
        {
          "output_type": "stream",
          "text": [
            "       Close Price  Open Price  High Price   Low Price\n",
            "count   503.000000  503.000000  503.000000  503.000000\n",
            "mean    291.988330  291.888469  297.229940  286.287575\n",
            "std      43.789555   43.758961   44.633081   42.947925\n",
            "min     178.970000  181.100000  186.680000  176.990000\n",
            "25%     257.835000  257.615000  262.125000  252.175000\n",
            "50%     299.920000  300.370000  305.960000  293.680000\n",
            "75%     326.130000  325.105000  332.555000  319.790000\n",
            "max     379.570000  375.000000  387.460000  367.120000\n"
          ],
          "name": "stdout"
        }
      ]
    },
    {
      "cell_type": "markdown",
      "metadata": {
        "id": "fQDc6ss2g64-",
        "colab_type": "text"
      },
      "source": [
        "1.2 Last 90 days"
      ]
    },
    {
      "cell_type": "code",
      "metadata": {
        "id": "frluABcLg86V",
        "colab_type": "code",
        "colab": {
          "base_uri": "https://localhost:8080/",
          "height": 34
        },
        "outputId": "0b132267-27bf-4693-8207-b83a617ef353"
      },
      "source": [
        "df90 = df[:90]\n",
        "df90_des = df90.describe()\n",
        "print(\"Max = \",df90_des[\"Close Price\"][7], \"Min = \",df90_des[\"Close Price\"][3], \"Mean = \", df90_des[\"Close Price\"][1])"
      ],
      "execution_count": null,
      "outputs": [
        {
          "output_type": "stream",
          "text": [
            "Max =  299.68 Min =  211.4 Mean =  237.01055555555556\n"
          ],
          "name": "stdout"
        }
      ]
    },
    {
      "cell_type": "markdown",
      "metadata": {
        "id": "OZf4iPLoi9Y_",
        "colab_type": "text"
      },
      "source": [
        "1.3 Datatype Change"
      ]
    },
    {
      "cell_type": "code",
      "metadata": {
        "id": "4MQY4eRfjDJ1",
        "colab_type": "code",
        "colab": {
          "base_uri": "https://localhost:8080/",
          "height": 34
        },
        "outputId": "ec7ff05a-3960-4dd2-b501-0ae167da295d"
      },
      "source": [
        "print(df[\"Date\"][0], df[\"Date\"][502], df[\"Date\"][0]-df[\"Date\"][502])"
      ],
      "execution_count": null,
      "outputs": [
        {
          "output_type": "stream",
          "text": [
            "2019-10-24 00:00:00 2017-10-25 00:00:00 729 days 00:00:00\n"
          ],
          "name": "stdout"
        }
      ]
    },
    {
      "cell_type": "markdown",
      "metadata": {
        "id": "45o5w1jEkvVH",
        "colab_type": "text"
      },
      "source": [
        "1.4 Monthwise"
      ]
    },
    {
      "cell_type": "code",
      "metadata": {
        "id": "G2LOqO0QkylT",
        "colab_type": "code",
        "colab": {
          "base_uri": "https://localhost:8080/",
          "height": 470
        },
        "outputId": "55061e75-84e0-4565-a5d4-7a0833078bcd"
      },
      "source": [
        "df['month_year'] = pd.to_datetime(df['Date']).dt.to_period('M')\n",
        "df['Total Traded Quantity'] = df['Total Traded Quantity'].str.rstrip('M')\n",
        "df['Total Traded Quantity']= pd.to_numeric(df['Total Traded Quantity'])\n",
        "df['Total Traded Quantity'] = df['Total Traded Quantity']*1000000\n",
        "df[\"Total Price\"] = df[\"Close Price\"]*df[\"Total Traded Quantity\"]\n",
        "\n",
        "sum_price = df.groupby(df['month_year'])['Total Price'].sum()\n",
        "sum_volume = df.groupby(df['month_year'])['Total Traded Quantity'].sum()\n",
        "\n",
        "VWAP_month = sum_price/sum_volume\n",
        "print(VWAP_month)"
      ],
      "execution_count": null,
      "outputs": [
        {
          "output_type": "stream",
          "text": [
            "month_year\n",
            "2017-10    325.012347\n",
            "2017-11    309.500577\n",
            "2017-12    324.671030\n",
            "2018-01    338.192926\n",
            "2018-02    333.128621\n",
            "2018-03    305.362653\n",
            "2018-04    288.258470\n",
            "2018-05    289.492634\n",
            "2018-06    337.848719\n",
            "2018-07    313.085949\n",
            "2018-08    338.429717\n",
            "2018-09    283.920060\n",
            "2018-10    290.774345\n",
            "2018-11    345.132018\n",
            "2018-12    343.673861\n",
            "2019-01    312.929452\n",
            "2019-02    307.989824\n",
            "2019-03    278.525216\n",
            "2019-04    262.122016\n",
            "2019-05    217.257468\n",
            "2019-06    211.260398\n",
            "2019-07    241.165854\n",
            "2019-08    224.566217\n",
            "2019-09    237.005077\n",
            "2019-10    256.960142\n",
            "Freq: M, dtype: float64\n"
          ],
          "name": "stdout"
        }
      ]
    },
    {
      "cell_type": "markdown",
      "metadata": {
        "id": "Qriigjh2OYcb",
        "colab_type": "text"
      },
      "source": [
        "1.5"
      ]
    },
    {
      "cell_type": "code",
      "metadata": {
        "id": "SUq9JVzdOZaf",
        "colab_type": "code",
        "colab": {}
      },
      "source": [
        "def avg_N(N):\n",
        "  df_N=df[0:N]\n",
        "  t=df_90.describe()\n",
        "  print(\"Avg :\", t[\"Close Price\"][1])\n",
        "\n",
        "def profit_loss(N):\n",
        "  pl=list(df['Close Price'])\n",
        "  return ((pl[0]-pl[N-1]) / pl[N-1])*100"
      ],
      "execution_count": null,
      "outputs": []
    },
    {
      "cell_type": "markdown",
      "metadata": {
        "id": "NGTTNTlW4e1t",
        "colab_type": "text"
      },
      "source": [
        "1.6 %"
      ]
    },
    {
      "cell_type": "code",
      "metadata": {
        "id": "CVTpd7g14h2k",
        "colab_type": "code",
        "colab": {
          "base_uri": "https://localhost:8080/",
          "height": 397
        },
        "outputId": "470b4369-f803-4932-f266-62f64d61343c"
      },
      "source": [
        "df_temp = df[\"Close Price\"]\n",
        "df_temp = df_temp[::-1]\n",
        "df_temp = df_temp.pct_change().fillna(0)\n",
        "df_temp = df_temp[::-1]\n",
        "print(df_temp)\n",
        "df[\"Day_Perc_Change\"] = df_temp*100\n",
        "df.head()"
      ],
      "execution_count": null,
      "outputs": [
        {
          "output_type": "stream",
          "text": [
            "0      0.176692\n",
            "1     -0.003521\n",
            "2      0.008205\n",
            "3     -0.013427\n",
            "4     -0.019162\n",
            "         ...   \n",
            "498    0.035772\n",
            "499   -0.002462\n",
            "500   -0.016249\n",
            "501    0.001013\n",
            "502    0.000000\n",
            "Name: Close Price, Length: 503, dtype: float64\n"
          ],
          "name": "stdout"
        },
        {
          "output_type": "execute_result",
          "data": {
            "text/html": [
              "<div>\n",
              "<style scoped>\n",
              "    .dataframe tbody tr th:only-of-type {\n",
              "        vertical-align: middle;\n",
              "    }\n",
              "\n",
              "    .dataframe tbody tr th {\n",
              "        vertical-align: top;\n",
              "    }\n",
              "\n",
              "    .dataframe thead th {\n",
              "        text-align: right;\n",
              "    }\n",
              "</style>\n",
              "<table border=\"1\" class=\"dataframe\">\n",
              "  <thead>\n",
              "    <tr style=\"text-align: right;\">\n",
              "      <th></th>\n",
              "      <th>Date</th>\n",
              "      <th>Close Price</th>\n",
              "      <th>Open Price</th>\n",
              "      <th>High Price</th>\n",
              "      <th>Low Price</th>\n",
              "      <th>Total Traded Quantity</th>\n",
              "      <th>month_year</th>\n",
              "      <th>Total Price</th>\n",
              "      <th>Day_Perc_Change</th>\n",
              "    </tr>\n",
              "  </thead>\n",
              "  <tbody>\n",
              "    <tr>\n",
              "      <th>0</th>\n",
              "      <td>2019-10-24</td>\n",
              "      <td>299.68</td>\n",
              "      <td>298.97</td>\n",
              "      <td>304.74</td>\n",
              "      <td>290.05</td>\n",
              "      <td>29820000.0</td>\n",
              "      <td>2019-10</td>\n",
              "      <td>8.936458e+09</td>\n",
              "      <td>17.669232</td>\n",
              "    </tr>\n",
              "    <tr>\n",
              "      <th>1</th>\n",
              "      <td>2019-10-23</td>\n",
              "      <td>254.68</td>\n",
              "      <td>254.50</td>\n",
              "      <td>256.14</td>\n",
              "      <td>251.35</td>\n",
              "      <td>11220000.0</td>\n",
              "      <td>2019-10</td>\n",
              "      <td>2.857510e+09</td>\n",
              "      <td>-0.352140</td>\n",
              "    </tr>\n",
              "    <tr>\n",
              "      <th>2</th>\n",
              "      <td>2019-10-22</td>\n",
              "      <td>255.58</td>\n",
              "      <td>254.32</td>\n",
              "      <td>258.33</td>\n",
              "      <td>250.85</td>\n",
              "      <td>4630000.0</td>\n",
              "      <td>2019-10</td>\n",
              "      <td>1.183335e+09</td>\n",
              "      <td>0.820513</td>\n",
              "    </tr>\n",
              "    <tr>\n",
              "      <th>3</th>\n",
              "      <td>2019-10-21</td>\n",
              "      <td>253.50</td>\n",
              "      <td>258.33</td>\n",
              "      <td>259.50</td>\n",
              "      <td>250.18</td>\n",
              "      <td>5110000.0</td>\n",
              "      <td>2019-10</td>\n",
              "      <td>1.295385e+09</td>\n",
              "      <td>-1.342674</td>\n",
              "    </tr>\n",
              "    <tr>\n",
              "      <th>4</th>\n",
              "      <td>2019-10-18</td>\n",
              "      <td>256.95</td>\n",
              "      <td>260.70</td>\n",
              "      <td>262.80</td>\n",
              "      <td>255.10</td>\n",
              "      <td>5750000.0</td>\n",
              "      <td>2019-10</td>\n",
              "      <td>1.477462e+09</td>\n",
              "      <td>-1.916250</td>\n",
              "    </tr>\n",
              "  </tbody>\n",
              "</table>\n",
              "</div>"
            ],
            "text/plain": [
              "        Date  Close Price  Open Price  ...  month_year   Total Price  Day_Perc_Change\n",
              "0 2019-10-24       299.68      298.97  ...     2019-10  8.936458e+09        17.669232\n",
              "1 2019-10-23       254.68      254.50  ...     2019-10  2.857510e+09        -0.352140\n",
              "2 2019-10-22       255.58      254.32  ...     2019-10  1.183335e+09         0.820513\n",
              "3 2019-10-21       253.50      258.33  ...     2019-10  1.295385e+09        -1.342674\n",
              "4 2019-10-18       256.95      260.70  ...     2019-10  1.477462e+09        -1.916250\n",
              "\n",
              "[5 rows x 9 columns]"
            ]
          },
          "metadata": {
            "tags": []
          },
          "execution_count": 42
        }
      ]
    },
    {
      "cell_type": "markdown",
      "metadata": {
        "id": "SI7RNiMMAeqv",
        "colab_type": "text"
      },
      "source": [
        "1.7 Trends"
      ]
    },
    {
      "cell_type": "code",
      "metadata": {
        "id": "9NMOzMWPAh4j",
        "colab_type": "code",
        "colab": {
          "base_uri": "https://localhost:8080/",
          "height": 34
        },
        "outputId": "052d1e29-08c8-450b-92c1-9807a20936e3"
      },
      "source": [
        "def tr(x):\n",
        "  if(x>7):\n",
        "    return(\"Bull run\")\n",
        "  elif(x>3):\n",
        "    return(\"Among top gainers\")\n",
        "  elif(x>1):\n",
        "    return(\"Positive\")\n",
        "  elif(x>0.5):\n",
        "    return(\"Slight Positive\")\n",
        "  elif(x>-0.5):\n",
        "    return(\"Slight or No change\")\n",
        "  elif(x>-1):\n",
        "    return(\"Slight negative\")\n",
        "  elif(x>-3):\n",
        "    return(\"Negative\")\n",
        "  elif(x>-7):\n",
        "    return(\"Among top losers\")\n",
        "  else:\n",
        "    return(\"Bear drop\")\n",
        "df['Trend'] = df['Day_Perc_Change'].apply(lambda x: tr(x))\n",
        "\n",
        "print(df['Trend'][150])"
      ],
      "execution_count": null,
      "outputs": [
        {
          "output_type": "stream",
          "text": [
            "Among top losers\n"
          ],
          "name": "stdout"
        }
      ]
    },
    {
      "cell_type": "markdown",
      "metadata": {
        "id": "SsXcN7JcEOgG",
        "colab_type": "text"
      },
      "source": [
        "1.8 "
      ]
    },
    {
      "cell_type": "code",
      "metadata": {
        "id": "GhySBxBGEXpZ",
        "colab_type": "code",
        "colab": {
          "base_uri": "https://localhost:8080/",
          "height": 386
        },
        "outputId": "e2bb1aff-b9a0-4b71-aab1-25b884dc9cc0"
      },
      "source": [
        "sum_trend_price_median = df.groupby(df['Trend'])['Total Traded Quantity'].median()\n",
        "sum_trend_price_mean = df.groupby(df['Trend'])['Total Traded Quantity'].mean()\n",
        "print(sum_trend_price_median)\n",
        "print(sum_trend_price_mean)"
      ],
      "execution_count": null,
      "outputs": [
        {
          "output_type": "stream",
          "text": [
            "Trend\n",
            "Among top gainers       9900000.0\n",
            "Among top losers        9970000.0\n",
            "Bear drop              18450000.0\n",
            "Bull run               19900000.0\n",
            "Negative                7000000.0\n",
            "Positive                6840000.0\n",
            "Slight Positive         6570000.0\n",
            "Slight negative         5840000.0\n",
            "Slight or No change     6190000.0\n",
            "Name: Total Traded Quantity, dtype: float64\n",
            "Trend\n",
            "Among top gainers      1.100100e+07\n",
            "Among top losers       1.125907e+07\n",
            "Bear drop              1.839286e+07\n",
            "Bull run               2.004364e+07\n",
            "Negative               7.830693e+06\n",
            "Positive               7.134673e+06\n",
            "Slight Positive        7.209688e+06\n",
            "Slight negative        6.668293e+06\n",
            "Slight or No change    6.793011e+06\n",
            "Name: Total Traded Quantity, dtype: float64\n"
          ],
          "name": "stdout"
        }
      ]
    },
    {
      "cell_type": "markdown",
      "metadata": {
        "id": "FCvFcrz_HNB1",
        "colab_type": "text"
      },
      "source": [
        "1.9"
      ]
    },
    {
      "cell_type": "code",
      "metadata": {
        "id": "6Ncun0JuHOhJ",
        "colab_type": "code",
        "colab": {}
      },
      "source": [
        "df.to_csv('TSLA_week1_dif.csv')"
      ],
      "execution_count": null,
      "outputs": []
    }
  ]
}