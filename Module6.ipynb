{
  "nbformat": 4,
  "nbformat_minor": 0,
  "metadata": {
    "colab": {
      "name": "tesla6.ipynb",
      "provenance": []
    },
    "kernelspec": {
      "name": "python3",
      "display_name": "Python 3"
    }
  },
  "cells": [
    {
      "cell_type": "code",
      "metadata": {
        "id": "wepIYLEGoN9k",
        "colab_type": "code",
        "colab": {}
      },
      "source": [
        "import pandas as pd\n",
        "import math as m\n",
        "from sklearn.cluster import KMeans \n",
        "from sklearn import metrics \n",
        "from scipy.spatial.distance import cdist \n",
        "import numpy as np \n",
        "import matplotlib.pyplot as plt "
      ],
      "execution_count": null,
      "outputs": []
    },
    {
      "cell_type": "markdown",
      "metadata": {
        "id": "RIVIxZhbpQQs",
        "colab_type": "text"
      },
      "source": [
        "6.1"
      ]
    },
    {
      "cell_type": "code",
      "metadata": {
        "id": "gCIpRo7DpRDv",
        "colab_type": "code",
        "colab": {
          "base_uri": "https://localhost:8080/",
          "height": 215
        },
        "outputId": "0bb0f374-49c8-4586-e8d5-d08131f68032"
      },
      "source": [
        "df = pd.DataFrame()\n",
        "df1 = pd.read_csv(\"ASHOKA.csv\")\n",
        "df['s1'] = df1[df1['Series'] == 'EQ']['Close Price']\n",
        "df1 = pd.read_csv(\"BAJAJELEC.csv\")\n",
        "df['s2'] = df1[df1['Series'] == 'EQ']['Close Price']\n",
        "df1 = pd.read_csv(\"BOMDYEING.csv\")\n",
        "df['s3'] = df1[df1['Series'] == 'EQ']['Close Price']\n",
        "df1 = pd.read_csv(\"CENTURYPLY.csv\")\n",
        "df['s4'] = df1[df1['Series'] == 'EQ']['Close Price']\n",
        "df1 = pd.read_csv(\"FORTIS.csv\")\n",
        "df['s5'] = df1[df1['Series'] == 'EQ']['Close Price']\n",
        "df1 = pd.read_csv(\"GUJALKALI.csv\")\n",
        "df['s6'] = df1[df1['Series'] == 'EQ']['Close Price']\n",
        "df1 = pd.read_csv(\"IDFC.csv\")\n",
        "df['s7'] = df1[df1['Series'] == 'EQ']['Close Price']\n",
        "df1 = pd.read_csv(\"IRCON.csv\")\n",
        "df['s8'] = df1[df1['Series'] == 'EQ']['Close Price']\n",
        "df1 = pd.read_csv(\"ITDC.csv\")\n",
        "df['s9'] = df1[df1['Series'] == 'EQ']['Close Price']\n",
        "df1 = pd.read_csv(\"JETAIRWAYS.csv\")\n",
        "df['s10'] = df1[df1['Series'] == 'EQ']['Close Price']\n",
        "df1 = pd.read_csv(\"ADANIPOWER.csv\")\n",
        "\n",
        "df['m1'] = df1[df1['Series'] == 'EQ']['Close Price']\n",
        "df1 = pd.read_csv(\"AJANTPHARM.csv\")\n",
        "df['m2'] = df1[df1['Series'] == 'EQ']['Close Price']\n",
        "df1 = pd.read_csv(\"AMARAJABAT.csv\")\n",
        "df['m3'] = df1[df1['Series'] == 'EQ']['Close Price']\n",
        "df1 = pd.read_csv(\"APOLLOTYRE.csv\")\n",
        "df['m4'] = df1[df1['Series'] == 'EQ']['Close Price']\n",
        "df1 = pd.read_csv(\"BERGEPAINT.csv\")\n",
        "df['m5'] = df1[df1['Series'] == 'EQ']['Close Price']\n",
        "df1 = pd.read_csv(\"CASTROLIND.csv\")\n",
        "df['m6'] = df1[df1['Series'] == 'EQ']['Close Price']\n",
        "df1 = pd.read_csv(\"CUMMINSIND.csv\")\n",
        "df['m7'] = df1[df1['Series'] == 'EQ']['Close Price']\n",
        "df1 = pd.read_csv(\"DHFL.csv\")\n",
        "df['m8'] = df1[df1['Series'] == 'EQ']['Close Price']\n",
        "df1 = pd.read_csv(\"EXIDEIND.csv\")\n",
        "df['m9'] = df1[df1['Series'] == 'EQ']['Close Price']\n",
        "df1 = pd.read_csv(\"GMRINFRA.csv\")\n",
        "df['m10'] = df1[df1['Series'] == 'EQ']['Close Price']\n",
        "\n",
        "df1 = pd.read_csv(\"ADANIPORTS.csv\")\n",
        "df['l1'] = df1[df1['Series'] == 'EQ']['Close Price']\n",
        "df1 = pd.read_csv(\"ASIANPAINT.csv\")\n",
        "df['l2'] = df1[df1['Series'] == 'EQ']['Close Price']\n",
        "df1 = pd.read_csv(\"AXISBANK.csv\")\n",
        "df['l3'] = df1[df1['Series'] == 'EQ']['Close Price']\n",
        "df1 = pd.read_csv(\"BAJFINANCE.csv\")\n",
        "df['l4'] = df1[df1['Series'] == 'EQ']['Close Price']\n",
        "df1 = pd.read_csv(\"BPCL.csv\")\n",
        "df['l5'] = df1[df1['Series'] == 'EQ']['Close Price']\n",
        "df1 = pd.read_csv(\"CIPLA.csv\")\n",
        "df['l6'] = df1[df1['Series'] == 'EQ']['Close Price']\n",
        "df1 = pd.read_csv(\"DRREDDY.csv\")\n",
        "df['l7'] = df1[df1['Series'] == 'EQ']['Close Price']\n",
        "df1 = pd.read_csv(\"EICHERMOT.csv\")\n",
        "df['l8'] = df1[df1['Series'] == 'EQ']['Close Price']\n",
        "df1 = pd.read_csv(\"GAIL.csv\")\n",
        "df['l9'] = df1[df1['Series'] == 'EQ']['Close Price']\n",
        "df1 = pd.read_csv(\"HDFC.csv\")\n",
        "df['l10'] = df1[df1['Series'] == 'EQ']['Close Price']\n",
        "df.head()"
      ],
      "execution_count": null,
      "outputs": [
        {
          "output_type": "execute_result",
          "data": {
            "text/html": [
              "<div>\n",
              "<style scoped>\n",
              "    .dataframe tbody tr th:only-of-type {\n",
              "        vertical-align: middle;\n",
              "    }\n",
              "\n",
              "    .dataframe tbody tr th {\n",
              "        vertical-align: top;\n",
              "    }\n",
              "\n",
              "    .dataframe thead th {\n",
              "        text-align: right;\n",
              "    }\n",
              "</style>\n",
              "<table border=\"1\" class=\"dataframe\">\n",
              "  <thead>\n",
              "    <tr style=\"text-align: right;\">\n",
              "      <th></th>\n",
              "      <th>s1</th>\n",
              "      <th>s2</th>\n",
              "      <th>s3</th>\n",
              "      <th>s4</th>\n",
              "      <th>s5</th>\n",
              "      <th>s6</th>\n",
              "      <th>s7</th>\n",
              "      <th>s8</th>\n",
              "      <th>s9</th>\n",
              "      <th>s10</th>\n",
              "      <th>m1</th>\n",
              "      <th>m2</th>\n",
              "      <th>m3</th>\n",
              "      <th>m4</th>\n",
              "      <th>m5</th>\n",
              "      <th>m6</th>\n",
              "      <th>m7</th>\n",
              "      <th>m8</th>\n",
              "      <th>m9</th>\n",
              "      <th>m10</th>\n",
              "      <th>l1</th>\n",
              "      <th>l2</th>\n",
              "      <th>l3</th>\n",
              "      <th>l4</th>\n",
              "      <th>l5</th>\n",
              "      <th>l6</th>\n",
              "      <th>l7</th>\n",
              "      <th>l8</th>\n",
              "      <th>l9</th>\n",
              "      <th>l10</th>\n",
              "    </tr>\n",
              "  </thead>\n",
              "  <tbody>\n",
              "    <tr>\n",
              "      <th>0</th>\n",
              "      <td>216.05</td>\n",
              "      <td>341.15</td>\n",
              "      <td>82.20</td>\n",
              "      <td>266.65</td>\n",
              "      <td>205.25</td>\n",
              "      <td>457.35</td>\n",
              "      <td>63.70</td>\n",
              "      <td>415.3</td>\n",
              "      <td>650.15</td>\n",
              "      <td>527.50</td>\n",
              "      <td>30.25</td>\n",
              "      <td>1633.50</td>\n",
              "      <td>933.40</td>\n",
              "      <td>231.90</td>\n",
              "      <td>259.5</td>\n",
              "      <td>449.85</td>\n",
              "      <td>1066.05</td>\n",
              "      <td>431.4</td>\n",
              "      <td>245.80</td>\n",
              "      <td>17.55</td>\n",
              "      <td>356.20</td>\n",
              "      <td>1148.05</td>\n",
              "      <td>500.1</td>\n",
              "      <td>1332.95</td>\n",
              "      <td>727.85</td>\n",
              "      <td>569.00</td>\n",
              "      <td>2675.80</td>\n",
              "      <td>28930.60</td>\n",
              "      <td>414.00</td>\n",
              "      <td>1559.50</td>\n",
              "    </tr>\n",
              "    <tr>\n",
              "      <th>1</th>\n",
              "      <td>214.90</td>\n",
              "      <td>347.00</td>\n",
              "      <td>83.40</td>\n",
              "      <td>266.10</td>\n",
              "      <td>207.90</td>\n",
              "      <td>455.25</td>\n",
              "      <td>64.25</td>\n",
              "      <td>427.0</td>\n",
              "      <td>636.70</td>\n",
              "      <td>534.15</td>\n",
              "      <td>32.85</td>\n",
              "      <td>1634.25</td>\n",
              "      <td>924.70</td>\n",
              "      <td>234.40</td>\n",
              "      <td>261.5</td>\n",
              "      <td>443.00</td>\n",
              "      <td>1047.75</td>\n",
              "      <td>NaN</td>\n",
              "      <td>244.70</td>\n",
              "      <td>17.40</td>\n",
              "      <td>354.50</td>\n",
              "      <td>1142.85</td>\n",
              "      <td>501.5</td>\n",
              "      <td>1347.75</td>\n",
              "      <td>733.30</td>\n",
              "      <td>565.60</td>\n",
              "      <td>2724.10</td>\n",
              "      <td>29362.50</td>\n",
              "      <td>411.40</td>\n",
              "      <td>NaN</td>\n",
              "    </tr>\n",
              "    <tr>\n",
              "      <th>2</th>\n",
              "      <td>217.00</td>\n",
              "      <td>349.85</td>\n",
              "      <td>82.25</td>\n",
              "      <td>264.85</td>\n",
              "      <td>205.90</td>\n",
              "      <td>472.65</td>\n",
              "      <td>63.35</td>\n",
              "      <td>421.4</td>\n",
              "      <td>626.75</td>\n",
              "      <td>528.90</td>\n",
              "      <td>33.10</td>\n",
              "      <td>1654.35</td>\n",
              "      <td>937.70</td>\n",
              "      <td>237.35</td>\n",
              "      <td>260.9</td>\n",
              "      <td>439.55</td>\n",
              "      <td>1016.45</td>\n",
              "      <td>NaN</td>\n",
              "      <td>243.20</td>\n",
              "      <td>17.30</td>\n",
              "      <td>348.55</td>\n",
              "      <td>1154.95</td>\n",
              "      <td>502.8</td>\n",
              "      <td>1324.80</td>\n",
              "      <td>727.45</td>\n",
              "      <td>562.35</td>\n",
              "      <td>2736.90</td>\n",
              "      <td>29093.55</td>\n",
              "      <td>408.30</td>\n",
              "      <td>1566.55</td>\n",
              "    </tr>\n",
              "    <tr>\n",
              "      <th>3</th>\n",
              "      <td>209.65</td>\n",
              "      <td>334.10</td>\n",
              "      <td>78.95</td>\n",
              "      <td>260.35</td>\n",
              "      <td>196.85</td>\n",
              "      <td>461.85</td>\n",
              "      <td>61.50</td>\n",
              "      <td>407.1</td>\n",
              "      <td>604.65</td>\n",
              "      <td>522.70</td>\n",
              "      <td>31.90</td>\n",
              "      <td>1633.40</td>\n",
              "      <td>912.10</td>\n",
              "      <td>232.65</td>\n",
              "      <td>254.1</td>\n",
              "      <td>433.95</td>\n",
              "      <td>1054.45</td>\n",
              "      <td>NaN</td>\n",
              "      <td>239.85</td>\n",
              "      <td>16.75</td>\n",
              "      <td>347.90</td>\n",
              "      <td>1151.35</td>\n",
              "      <td>492.0</td>\n",
              "      <td>1314.55</td>\n",
              "      <td>714.90</td>\n",
              "      <td>560.10</td>\n",
              "      <td>2678.95</td>\n",
              "      <td>28357.30</td>\n",
              "      <td>404.75</td>\n",
              "      <td>1552.50</td>\n",
              "    </tr>\n",
              "    <tr>\n",
              "      <th>4</th>\n",
              "      <td>206.25</td>\n",
              "      <td>336.20</td>\n",
              "      <td>77.15</td>\n",
              "      <td>254.05</td>\n",
              "      <td>203.55</td>\n",
              "      <td>455.35</td>\n",
              "      <td>61.15</td>\n",
              "      <td>399.8</td>\n",
              "      <td>594.30</td>\n",
              "      <td>520.40</td>\n",
              "      <td>32.40</td>\n",
              "      <td>1670.25</td>\n",
              "      <td>895.75</td>\n",
              "      <td>234.65</td>\n",
              "      <td>247.8</td>\n",
              "      <td>437.10</td>\n",
              "      <td>972.95</td>\n",
              "      <td>NaN</td>\n",
              "      <td>238.15</td>\n",
              "      <td>16.95</td>\n",
              "      <td>349.45</td>\n",
              "      <td>1123.15</td>\n",
              "      <td>501.7</td>\n",
              "      <td>1289.15</td>\n",
              "      <td>702.45</td>\n",
              "      <td>564.95</td>\n",
              "      <td>2656.45</td>\n",
              "      <td>27936.05</td>\n",
              "      <td>401.05</td>\n",
              "      <td>NaN</td>\n",
              "    </tr>\n",
              "  </tbody>\n",
              "</table>\n",
              "</div>"
            ],
            "text/plain": [
              "       s1      s2     s3      s4  ...       l7        l8      l9      l10\n",
              "0  216.05  341.15  82.20  266.65  ...  2675.80  28930.60  414.00  1559.50\n",
              "1  214.90  347.00  83.40  266.10  ...  2724.10  29362.50  411.40      NaN\n",
              "2  217.00  349.85  82.25  264.85  ...  2736.90  29093.55  408.30  1566.55\n",
              "3  209.65  334.10  78.95  260.35  ...  2678.95  28357.30  404.75  1552.50\n",
              "4  206.25  336.20  77.15  254.05  ...  2656.45  27936.05  401.05      NaN\n",
              "\n",
              "[5 rows x 30 columns]"
            ]
          },
          "metadata": {
            "tags": []
          },
          "execution_count": 120
        }
      ]
    },
    {
      "cell_type": "markdown",
      "metadata": {
        "id": "5JF526-TrG5s",
        "colab_type": "text"
      },
      "source": [
        "6.2"
      ]
    },
    {
      "cell_type": "code",
      "metadata": {
        "id": "MEP0iAP7rIQY",
        "colab_type": "code",
        "colab": {
          "base_uri": "https://localhost:8080/",
          "height": 1000
        },
        "outputId": "e93818a0-cb07-4bc0-b0e2-cf84be5b89b5"
      },
      "source": [
        "dr=df[:249].pct_change().fillna(0).mean()*252\n",
        "dsr=df[:249].pct_change().fillna(0).std()*m.sqrt(252)\n",
        "print(dr, dsr)"
      ],
      "execution_count": null,
      "outputs": [
        {
          "output_type": "stream",
          "text": [
            "s1     0.277989\n",
            "s2     0.690463\n",
            "s3     1.468089\n",
            "s4     0.198278\n",
            "s5    -0.183135\n",
            "s6     0.491110\n",
            "s7    -0.100402\n",
            "s8    -0.047735\n",
            "s9    -0.301319\n",
            "s10   -0.027907\n",
            "m1    -0.222163\n",
            "m2    -0.386808\n",
            "m3    -0.037795\n",
            "m4     0.260767\n",
            "m5     0.100360\n",
            "m6    -0.705021\n",
            "m7    -0.298850\n",
            "m8     0.016918\n",
            "m9     0.082539\n",
            "m10    0.178912\n",
            "l1     0.178830\n",
            "l2     0.141801\n",
            "l3     0.140274\n",
            "l4     0.380495\n",
            "l5    -0.482125\n",
            "l6     0.050209\n",
            "l7    -0.243323\n",
            "l8     0.081198\n",
            "l9    -0.115454\n",
            "l10    0.065741\n",
            "dtype: float64 s1     0.348234\n",
            "s2     0.426172\n",
            "s3     0.626781\n",
            "s4     0.344980\n",
            "s5     0.541257\n",
            "s6     0.415462\n",
            "s7     0.329878\n",
            "s8     0.233724\n",
            "s9     0.532099\n",
            "s10    0.447974\n",
            "m1     0.466385\n",
            "m2     0.308679\n",
            "m3     0.273043\n",
            "m4     0.309738\n",
            "m5     0.260914\n",
            "m6     0.557319\n",
            "m7     0.267214\n",
            "m8     0.107208\n",
            "m9     0.248237\n",
            "m10    0.545440\n",
            "l1     0.269962\n",
            "l2     0.190963\n",
            "l3     0.285843\n",
            "l4     0.285858\n",
            "l5     0.439756\n",
            "l6     0.259787\n",
            "l7     0.291772\n",
            "l8     0.236757\n",
            "l9     0.362989\n",
            "l10    0.128103\n",
            "dtype: float64\n"
          ],
          "name": "stdout"
        }
      ]
    },
    {
      "cell_type": "markdown",
      "metadata": {
        "id": "1xvMBtm0tC7Z",
        "colab_type": "text"
      },
      "source": [
        "6.3"
      ]
    },
    {
      "cell_type": "code",
      "metadata": {
        "id": "V2uf1wzOtDsX",
        "colab_type": "code",
        "colab": {
          "base_uri": "https://localhost:8080/",
          "height": 265
        },
        "outputId": "979f42eb-dad9-4f2c-9509-a83a12131a9d"
      },
      "source": [
        "X = np.array(list(zip(dr, dsr))).reshape(len(dr), 2) \n",
        "  \n",
        "#Visualizing the data  \n",
        "plt.scatter(dr, dsr) \n",
        "plt.show() "
      ],
      "execution_count": null,
      "outputs": [
        {
          "output_type": "display_data",
          "data": {
            "image/png": "[encoded data removed]",
            "text/plain": [
              "<Figure size 432x288 with 1 Axes>"
            ]
          },
          "metadata": {
            "tags": [],
            "needs_background": "light"
          }
        }
      ]
    },
    {
      "cell_type": "code",
      "metadata": {
        "id": "m4E9ZUav0CPH",
        "colab_type": "code",
        "colab": {}
      },
      "source": [
        "distortions = [] \n",
        "inertias = [] \n",
        "mapping1 = {} \n",
        "mapping2 = {} \n",
        "K = range(1,10) \n",
        "\n",
        "for k in K: \n",
        "\t#Building and fitting the model \n",
        "\tkmeanModel = KMeans(n_clusters=k).fit(X) \n",
        "\tkmeanModel.fit(X)\t \n",
        "\t\n",
        "\tdistortions.append(sum(np.min(cdist(X, kmeanModel.cluster_centers_, \n",
        "\t\t\t\t\t'euclidean'),axis=1)) / X.shape[0]) \n",
        "\tinertias.append(kmeanModel.inertia_) \n",
        "\n",
        "\tmapping1[k] = sum(np.min(cdist(X, kmeanModel.cluster_centers_, \n",
        "\t\t\t\t'euclidean'),axis=1)) / X.shape[0] \n",
        "\tmapping2[k] = kmeanModel.inertia_ \n"
      ],
      "execution_count": null,
      "outputs": []
    },
    {
      "cell_type": "code",
      "metadata": {
        "id": "K5svmeTn0OxG",
        "colab_type": "code",
        "colab": {
          "base_uri": "https://localhost:8080/",
          "height": 295
        },
        "outputId": "898fedb0-60b8-4c89-a015-5585ca03200c"
      },
      "source": [
        "plt.plot(K, distortions, 'bx-') \n",
        "plt.xlabel('Values of K') \n",
        "plt.ylabel('Distortion') \n",
        "plt.title('The Elbow Method using Distortion') \n",
        "plt.show() \n"
      ],
      "execution_count": null,
      "outputs": [
        {
          "output_type": "display_data",
          "data": {
            "image/png": "[encoded data removed]",
            "text/plain": [
              "<Figure size 432x288 with 1 Axes>"
            ]
          },
          "metadata": {
            "tags": [],
            "needs_background": "light"
          }
        }
      ]
    },
    {
      "cell_type": "code",
      "metadata": {
        "id": "aL2jrwPF0QZW",
        "colab_type": "code",
        "colab": {
          "base_uri": "https://localhost:8080/",
          "height": 295
        },
        "outputId": "4b00c1f3-b624-45c2-8572-6450cad874fc"
      },
      "source": [
        "plt.plot(K, inertias, 'bx-') \n",
        "plt.xlabel('Values of K') \n",
        "plt.ylabel('Inertia') \n",
        "plt.title('The Elbow Method using Inertia') \n",
        "plt.show() \n"
      ],
      "execution_count": null,
      "outputs": [
        {
          "output_type": "display_data",
          "data": {
            "image/png": "[encoded data removed]",
            "text/plain": [
              "<Figure size 432x288 with 1 Axes>"
            ]
          },
          "metadata": {
            "tags": [],
            "needs_background": "light"
          }
        }
      ]
    },
    {
      "cell_type": "markdown",
      "metadata": {
        "id": "fTTsVEvV4mUY",
        "colab_type": "text"
      },
      "source": [
        "From elbow graphs the best possible no. of clusters is 4"
      ]
    },
    {
      "cell_type": "code",
      "metadata": {
        "id": "3y7CC4uD0dLB",
        "colab_type": "code",
        "colab": {
          "base_uri": "https://localhost:8080/",
          "height": 282
        },
        "outputId": "d434aeae-fd26-41f4-cbf0-9068a7d45bd4"
      },
      "source": [
        "kmeanModel = KMeans(n_clusters=4).fit(X) \n",
        "kmeanModel.fit(X)\n",
        "\n",
        "plt.scatter(X[:,0],X[:,1], c=kmeanModel.labels_, cmap='rainbow')"
      ],
      "execution_count": null,
      "outputs": [
        {
          "output_type": "execute_result",
          "data": {
            "text/plain": [
              "<matplotlib.collections.PathCollection at 0x7f8eb64f5438>"
            ]
          },
          "metadata": {
            "tags": []
          },
          "execution_count": 126
        },
        {
          "output_type": "display_data",
          "data": {
            "image/png": "[encoded data removed]",
            "text/plain": [
              "<Figure size 432x288 with 1 Axes>"
            ]
          },
          "metadata": {
            "tags": [],
            "needs_background": "light"
          }
        }
      ]
    },
    {
      "cell_type": "markdown",
      "metadata": {
        "id": "SVUwARQg3UIi",
        "colab_type": "text"
      },
      "source": [
        "6.4"
      ]
    },
    {
      "cell_type": "code",
      "metadata": {
        "id": "XcHrcEAJ3U3u",
        "colab_type": "code",
        "colab": {
          "base_uri": "https://localhost:8080/",
          "height": 538
        },
        "outputId": "fb21378f-27f0-4346-c40b-3a7b97e9dabe"
      },
      "source": [
        "dfn = pd.DataFrame()\n",
        "dfn['name'] = dr.index\n",
        "dfn['cluster'] = kmeanModel.predict(X)\n",
        "print(dfn)"
      ],
      "execution_count": null,
      "outputs": [
        {
          "output_type": "stream",
          "text": [
            "   name  cluster\n",
            "0    s1        1\n",
            "1    s2        1\n",
            "2    s3        2\n",
            "3    s4        1\n",
            "4    s5        0\n",
            "5    s6        1\n",
            "6    s7        3\n",
            "7    s8        3\n",
            "8    s9        0\n",
            "9   s10        3\n",
            "10   m1        0\n",
            "11   m2        0\n",
            "12   m3        3\n",
            "13   m4        1\n",
            "14   m5        3\n",
            "15   m6        0\n",
            "16   m7        0\n",
            "17   m8        3\n",
            "18   m9        3\n",
            "19  m10        1\n",
            "20   l1        3\n",
            "21   l2        3\n",
            "22   l3        3\n",
            "23   l4        1\n",
            "24   l5        0\n",
            "25   l6        3\n",
            "26   l7        0\n",
            "27   l8        3\n",
            "28   l9        3\n",
            "29  l10        3\n"
          ],
          "name": "stdout"
        }
      ]
    }
  ]
}