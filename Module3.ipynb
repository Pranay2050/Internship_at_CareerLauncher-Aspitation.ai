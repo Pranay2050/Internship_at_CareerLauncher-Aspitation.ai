{
  "nbformat": 4,
  "nbformat_minor": 0,
  "metadata": {
    "colab": {
      "name": "tesla3.ipynb",
      "provenance": []
    },
    "kernelspec": {
      "name": "python3",
      "display_name": "Python 3"
    }
  },
  "cells": [
    {
      "cell_type": "code",
      "metadata": {
        "id": "boDyc0eqFw2P",
        "colab_type": "code",
        "colab": {}
      },
      "source": [
        "from sklearn.linear_model import LinearRegression\n",
        "import pandas as pd\n",
        "import numpy as np\n",
        "from sklearn.metrics import accuracy_score\n",
        "import statsmodels.api as sm\n"
      ],
      "execution_count": null,
      "outputs": []
    },
    {
      "cell_type": "markdown",
      "metadata": {
        "id": "Ivg4I50YLdfy",
        "colab_type": "text"
      },
      "source": [
        "3.1"
      ]
    },
    {
      "cell_type": "code",
      "metadata": {
        "id": "nATjNc-yLgXX",
        "colab_type": "code",
        "colab": {
          "base_uri": "https://localhost:8080/",
          "height": 50
        },
        "outputId": "fdff0467-0620-4eaa-cfbb-5cad9a5d2e9f"
      },
      "source": [
        "df=pd.read_csv('GOLD.csv')\n",
        "\n",
        "df1= df[-np.isnan(df['Pred'])]\n",
        "df2= df[np.isnan(df['Pred'])]\n",
        "\n",
        "df1_x_pred=df1[['Price','Open','High','Low']]\n",
        "df1_x_new=df[['Price','Open','High','Low']]\n",
        "\n",
        "df1_y_pred=df1['Pred']\n",
        "df1_y_new=df['new']\n",
        "\n",
        "l_pred=len(df1_x_pred)\n",
        "l_new=len(df1_x_new)\n",
        "\n",
        "df1_x_pred_train=df1_x_pred[:int(l_pred*0.8)]\n",
        "df1_y_pred_train=df1_y_pred[:int(l_pred*0.8)]\n",
        "df1_x_new_train=df1_x_new[:int(l_new*0.8)]\n",
        "df1_y_new_train=df1_y_new[:int(l_new*0.8)]\n",
        "\n",
        "\n",
        "df1_x_pred_test=df1_x_pred[int(l_pred*0.8):]\n",
        "df1_y_pred_test=df1_y_pred[int(l_pred*0.8):]\n",
        "df1_x_new_test=df1_x_new[int(l_new*0.8):]\n",
        "df1_y_new_test=df1_y_new[int(l_new*0.8):]\n",
        "\n",
        "from sklearn.metrics import mean_squared_error, r2_score\n",
        "\n",
        "m1=LinearRegression()\n",
        "m2=LinearRegression()\n",
        "\n",
        "m1.fit(df1_x_pred_train,df1_y_pred_train)\n",
        "m2.fit(df1_x_new_train,df1_y_new_train)\n",
        "\n",
        "pred_y_predict=m1.predict(df1_x_pred_test)\n",
        "new_y_predict=m2.predict(df1_x_new_test)\n",
        "\n",
        "\n",
        "print(mean_squared_error(df1_y_pred_test, pred_y_predict),mean_squared_error(df1_y_new_test, new_y_predict))\n",
        "\n",
        "m1.coef_"
      ],
      "execution_count": null,
      "outputs": [
        {
          "output_type": "stream",
          "text": [
            "5.015989287726843e-24 1.5871859666837065\n"
          ],
          "name": "stdout"
        },
        {
          "output_type": "execute_result",
          "data": {
            "text/plain": [
              "array([ 2.,  3., -1., -4.])"
            ]
          },
          "metadata": {
            "tags": []
          },
          "execution_count": 65
        }
      ]
    },
    {
      "cell_type": "code",
      "metadata": {
        "id": "wmUJq313Blz1",
        "colab_type": "code",
        "colab": {
          "base_uri": "https://localhost:8080/",
          "height": 195
        },
        "outputId": "013b79e1-0cf6-4d01-8599-0729bea03e70"
      },
      "source": [
        "df2.head()"
      ],
      "execution_count": null,
      "outputs": [
        {
          "output_type": "execute_result",
          "data": {
            "text/html": [
              "<div>\n",
              "<style scoped>\n",
              "    .dataframe tbody tr th:only-of-type {\n",
              "        vertical-align: middle;\n",
              "    }\n",
              "\n",
              "    .dataframe tbody tr th {\n",
              "        vertical-align: top;\n",
              "    }\n",
              "\n",
              "    .dataframe thead th {\n",
              "        text-align: right;\n",
              "    }\n",
              "</style>\n",
              "<table border=\"1\" class=\"dataframe\">\n",
              "  <thead>\n",
              "    <tr style=\"text-align: right;\">\n",
              "      <th></th>\n",
              "      <th>Date</th>\n",
              "      <th>Price</th>\n",
              "      <th>Open</th>\n",
              "      <th>High</th>\n",
              "      <th>Low</th>\n",
              "      <th>Vol.</th>\n",
              "      <th>Change %</th>\n",
              "      <th>Pred</th>\n",
              "      <th>new</th>\n",
              "    </tr>\n",
              "  </thead>\n",
              "  <tbody>\n",
              "    <tr>\n",
              "      <th>411</th>\n",
              "      <td>Dec 11, 2018</td>\n",
              "      <td>31812</td>\n",
              "      <td>31850</td>\n",
              "      <td>31850</td>\n",
              "      <td>31618</td>\n",
              "      <td>10.53K</td>\n",
              "      <td>-0.26%</td>\n",
              "      <td>NaN</td>\n",
              "      <td>195.423493</td>\n",
              "    </tr>\n",
              "    <tr>\n",
              "      <th>412</th>\n",
              "      <td>Dec 12, 2018</td>\n",
              "      <td>31626</td>\n",
              "      <td>31749</td>\n",
              "      <td>31749</td>\n",
              "      <td>31582</td>\n",
              "      <td>7.57K</td>\n",
              "      <td>-0.58%</td>\n",
              "      <td>NaN</td>\n",
              "      <td>44.232664</td>\n",
              "    </tr>\n",
              "    <tr>\n",
              "      <th>413</th>\n",
              "      <td>Dec 13, 2018</td>\n",
              "      <td>31414</td>\n",
              "      <td>31550</td>\n",
              "      <td>31600</td>\n",
              "      <td>31337</td>\n",
              "      <td>8.43K</td>\n",
              "      <td>-0.67%</td>\n",
              "      <td>NaN</td>\n",
              "      <td>127.646233</td>\n",
              "    </tr>\n",
              "    <tr>\n",
              "      <th>414</th>\n",
              "      <td>Dec 14, 2018</td>\n",
              "      <td>31437</td>\n",
              "      <td>31440</td>\n",
              "      <td>31514</td>\n",
              "      <td>31384</td>\n",
              "      <td>6.75K</td>\n",
              "      <td>0.07%</td>\n",
              "      <td>NaN</td>\n",
              "      <td>127.219539</td>\n",
              "    </tr>\n",
              "    <tr>\n",
              "      <th>415</th>\n",
              "      <td>Dec 17, 2018</td>\n",
              "      <td>31501</td>\n",
              "      <td>31369</td>\n",
              "      <td>31530</td>\n",
              "      <td>31291</td>\n",
              "      <td>5.97K</td>\n",
              "      <td>0.20%</td>\n",
              "      <td>NaN</td>\n",
              "      <td>372.603976</td>\n",
              "    </tr>\n",
              "  </tbody>\n",
              "</table>\n",
              "</div>"
            ],
            "text/plain": [
              "             Date  Price   Open   High  ...    Vol. Change % Pred         new\n",
              "411  Dec 11, 2018  31812  31850  31850  ...  10.53K   -0.26%  NaN  195.423493\n",
              "412  Dec 12, 2018  31626  31749  31749  ...   7.57K   -0.58%  NaN   44.232664\n",
              "413  Dec 13, 2018  31414  31550  31600  ...   8.43K   -0.67%  NaN  127.646233\n",
              "414  Dec 14, 2018  31437  31440  31514  ...   6.75K    0.07%  NaN  127.219539\n",
              "415  Dec 17, 2018  31501  31369  31530  ...   5.97K    0.20%  NaN  372.603976\n",
              "\n",
              "[5 rows x 9 columns]"
            ]
          },
          "metadata": {
            "tags": []
          },
          "execution_count": 66
        }
      ]
    },
    {
      "cell_type": "markdown",
      "metadata": {
        "id": "LzltZh6BAiQ1",
        "colab_type": "text"
      },
      "source": [
        "\"Pred\" column is the linear one as it gave negligible error"
      ]
    },
    {
      "cell_type": "code",
      "metadata": {
        "id": "e3Nbn9wKNxtO",
        "colab_type": "code",
        "colab": {
          "base_uri": "https://localhost:8080/",
          "height": 296
        },
        "outputId": "c27e7780-5d53-4714-be91-3b12e1fb0523"
      },
      "source": [
        "df2[\"Pred\"] = m1.predict(df2[['Price','Open','High','Low']])\n",
        "df1 = df1.append(df2)\n",
        "df1.tail()"
      ],
      "execution_count": null,
      "outputs": [
        {
          "output_type": "stream",
          "text": [
            "/usr/local/lib/python3.6/dist-packages/ipykernel_launcher.py:1: SettingWithCopyWarning: \n",
            "A value is trying to be set on a copy of a slice from a DataFrame.\n",
            "Try using .loc[row_indexer,col_indexer] = value instead\n",
            "\n",
            "See the caveats in the documentation: https://pandas.pydata.org/pandas-docs/stable/user_guide/indexing.html#returning-a-view-versus-a-copy\n",
            "  \"\"\"Entry point for launching an IPython kernel.\n"
          ],
          "name": "stderr"
        },
        {
          "output_type": "execute_result",
          "data": {
            "text/html": [
              "<div>\n",
              "<style scoped>\n",
              "    .dataframe tbody tr th:only-of-type {\n",
              "        vertical-align: middle;\n",
              "    }\n",
              "\n",
              "    .dataframe tbody tr th {\n",
              "        vertical-align: top;\n",
              "    }\n",
              "\n",
              "    .dataframe thead th {\n",
              "        text-align: right;\n",
              "    }\n",
              "</style>\n",
              "<table border=\"1\" class=\"dataframe\">\n",
              "  <thead>\n",
              "    <tr style=\"text-align: right;\">\n",
              "      <th></th>\n",
              "      <th>Date</th>\n",
              "      <th>Price</th>\n",
              "      <th>Open</th>\n",
              "      <th>High</th>\n",
              "      <th>Low</th>\n",
              "      <th>Vol.</th>\n",
              "      <th>Change %</th>\n",
              "      <th>Pred</th>\n",
              "      <th>new</th>\n",
              "    </tr>\n",
              "  </thead>\n",
              "  <tbody>\n",
              "    <tr>\n",
              "      <th>507</th>\n",
              "      <td>Apr 26, 2019</td>\n",
              "      <td>31868</td>\n",
              "      <td>31851</td>\n",
              "      <td>31934</td>\n",
              "      <td>31705</td>\n",
              "      <td>9.67K</td>\n",
              "      <td>0.08%</td>\n",
              "      <td>535.0</td>\n",
              "      <td>247.177322</td>\n",
              "    </tr>\n",
              "    <tr>\n",
              "      <th>508</th>\n",
              "      <td>Apr 30, 2019</td>\n",
              "      <td>31625</td>\n",
              "      <td>31800</td>\n",
              "      <td>31824</td>\n",
              "      <td>31597</td>\n",
              "      <td>6.44K</td>\n",
              "      <td>-0.76%</td>\n",
              "      <td>438.0</td>\n",
              "      <td>52.201158</td>\n",
              "    </tr>\n",
              "    <tr>\n",
              "      <th>509</th>\n",
              "      <td>May 01, 2019</td>\n",
              "      <td>31563</td>\n",
              "      <td>31604</td>\n",
              "      <td>31657</td>\n",
              "      <td>31503</td>\n",
              "      <td>1.55K</td>\n",
              "      <td>-0.20%</td>\n",
              "      <td>269.0</td>\n",
              "      <td>113.293305</td>\n",
              "    </tr>\n",
              "    <tr>\n",
              "      <th>510</th>\n",
              "      <td>May 02, 2019</td>\n",
              "      <td>31203</td>\n",
              "      <td>31420</td>\n",
              "      <td>31425</td>\n",
              "      <td>31160</td>\n",
              "      <td>0.48K</td>\n",
              "      <td>-1.14%</td>\n",
              "      <td>601.0</td>\n",
              "      <td>48.365693</td>\n",
              "    </tr>\n",
              "    <tr>\n",
              "      <th>511</th>\n",
              "      <td>May 03, 2019</td>\n",
              "      <td>31341</td>\n",
              "      <td>31250</td>\n",
              "      <td>31500</td>\n",
              "      <td>31163</td>\n",
              "      <td>0.08K</td>\n",
              "      <td>0.44%</td>\n",
              "      <td>280.0</td>\n",
              "      <td>429.924911</td>\n",
              "    </tr>\n",
              "  </tbody>\n",
              "</table>\n",
              "</div>"
            ],
            "text/plain": [
              "             Date  Price   Open   High  ...   Vol. Change %   Pred         new\n",
              "507  Apr 26, 2019  31868  31851  31934  ...  9.67K    0.08%  535.0  247.177322\n",
              "508  Apr 30, 2019  31625  31800  31824  ...  6.44K   -0.76%  438.0   52.201158\n",
              "509  May 01, 2019  31563  31604  31657  ...  1.55K   -0.20%  269.0  113.293305\n",
              "510  May 02, 2019  31203  31420  31425  ...  0.48K   -1.14%  601.0   48.365693\n",
              "511  May 03, 2019  31341  31250  31500  ...  0.08K    0.44%  280.0  429.924911\n",
              "\n",
              "[5 rows x 9 columns]"
            ]
          },
          "metadata": {
            "tags": []
          },
          "execution_count": 67
        }
      ]
    },
    {
      "cell_type": "markdown",
      "metadata": {
        "id": "yu6yvtnaCzzU",
        "colab_type": "text"
      },
      "source": [
        "3.2"
      ]
    },
    {
      "cell_type": "code",
      "metadata": {
        "id": "cK4By_x7C04D",
        "colab_type": "code",
        "colab": {
          "base_uri": "https://localhost:8080/",
          "height": 437
        },
        "outputId": "99e871c7-140e-4a4a-bf0d-1ddf3043b0c9"
      },
      "source": [
        "dfa = pd.read_csv(\"ASHOKA.csv\")\n",
        "dfn = pd.read_csv(\"Nifty50.csv\")\n",
        "dfn['Date']= pd.to_datetime(dfn['Date'])\n",
        "dfa['Date']= pd.to_datetime(dfa['Date'])\n",
        "\n",
        "#import datetime\n",
        "\n",
        "#print(dfa['Date'][0], dfa['Date'][0]+datetime.timedelta(days=92))\n",
        "\n",
        "dfa['month_year'] = pd.to_datetime(dfa['Date']).dt.to_period('M')\n",
        "dfn['month_year'] = pd.to_datetime(dfn['Date']).dt.to_period('M')\n",
        "\n",
        "dm = pd.DataFrame()\n",
        "dm['Close Price'] = dfa.groupby(dfa['month_year'])['Close Price'].sum()\n",
        "dm['Close'] = dfn.groupby(dfn['month_year'])['Close'].sum()\n",
        "monthly_prices = pd.concat([dm['Close Price'], dm['Close']], axis=1)\n",
        "\n",
        "dfa = dfa[:65]\n",
        "dfn = dfn[:65]\n",
        "\n",
        "daily_prices = pd.concat([dfa['Close Price'], dfn['Close']], axis=1)\n",
        "\n",
        "daily_returns = daily_prices.pct_change(1).dropna()\n",
        "\n",
        "\n",
        "X = daily_returns['Close']\n",
        "y = daily_returns['Close Price']\n",
        "\n",
        "# Add a constant to the independent value\n",
        "X1 = sm.add_constant(X)\n",
        "\n",
        "# make regression model \n",
        "model = sm.OLS(y, X1)\n",
        "\n",
        "# fit model and print results\n",
        "results = model.fit()\n",
        "print(results.summary())"
      ],
      "execution_count": null,
      "outputs": [
        {
          "output_type": "stream",
          "text": [
            "                            OLS Regression Results                            \n",
            "==============================================================================\n",
            "Dep. Variable:            Close Price   R-squared:                       0.120\n",
            "Model:                            OLS   Adj. R-squared:                  0.106\n",
            "Method:                 Least Squares   F-statistic:                     8.486\n",
            "Date:                Wed, 01 Jul 2020   Prob (F-statistic):            0.00497\n",
            "Time:                        12:35:56   Log-Likelihood:                 167.03\n",
            "No. Observations:                  64   AIC:                            -330.1\n",
            "Df Residuals:                      62   BIC:                            -325.7\n",
            "Df Model:                           1                                         \n",
            "Covariance Type:            nonrobust                                         \n",
            "==============================================================================\n",
            "                 coef    std err          t      P>|t|      [0.025      0.975]\n",
            "------------------------------------------------------------------------------\n",
            "const         -0.0027      0.002     -1.181      0.242      -0.007       0.002\n",
            "Close          1.2352      0.424      2.913      0.005       0.388       2.083\n",
            "==============================================================================\n",
            "Omnibus:                       10.434   Durbin-Watson:                   1.977\n",
            "Prob(Omnibus):                  0.005   Jarque-Bera (JB):               10.762\n",
            "Skew:                           0.793   Prob(JB):                      0.00460\n",
            "Kurtosis:                       4.233   Cond. No.                         188.\n",
            "==============================================================================\n",
            "\n",
            "Warnings:\n",
            "[1] Standard Errors assume that the covariance matrix of the errors is correctly specified.\n"
          ],
          "name": "stdout"
        }
      ]
    },
    {
      "cell_type": "code",
      "metadata": {
        "id": "DdwAGCaZV-nP",
        "colab_type": "code",
        "colab": {
          "base_uri": "https://localhost:8080/",
          "height": 437
        },
        "outputId": "c0845869-5858-465f-93ee-a76d3680839c"
      },
      "source": [
        "\n",
        "monthly_returns = monthly_prices.pct_change(1).dropna()\n",
        "\n",
        "\n",
        "X = monthly_returns['Close']\n",
        "y = monthly_returns['Close Price']\n",
        "\n",
        "# Add a constant to the independent value\n",
        "X1 = sm.add_constant(X)\n",
        "\n",
        "# make regression model \n",
        "model2 = sm.OLS(y, X1)\n",
        "\n",
        "# fit model and print results\n",
        "results = model2.fit()\n",
        "print(results.summary())"
      ],
      "execution_count": null,
      "outputs": [
        {
          "output_type": "stream",
          "text": [
            "                            OLS Regression Results                            \n",
            "==============================================================================\n",
            "Dep. Variable:            Close Price   R-squared:                       0.774\n",
            "Model:                            OLS   Adj. R-squared:                  0.764\n",
            "Method:                 Least Squares   F-statistic:                     75.26\n",
            "Date:                Wed, 01 Jul 2020   Prob (F-statistic):           1.50e-08\n",
            "Time:                        12:35:58   Log-Likelihood:                 20.766\n",
            "No. Observations:                  24   AIC:                            -37.53\n",
            "Df Residuals:                      22   BIC:                            -35.18\n",
            "Df Model:                           1                                         \n",
            "Covariance Type:            nonrobust                                         \n",
            "==============================================================================\n",
            "                 coef    std err          t      P>|t|      [0.025      0.975]\n",
            "------------------------------------------------------------------------------\n",
            "const         -0.0236      0.022     -1.086      0.289      -0.069       0.021\n",
            "Close          0.9646      0.111      8.676      0.000       0.734       1.195\n",
            "==============================================================================\n",
            "Omnibus:                        1.241   Durbin-Watson:                   1.024\n",
            "Prob(Omnibus):                  0.538   Jarque-Bera (JB):                0.559\n",
            "Skew:                          -0.370   Prob(JB):                        0.756\n",
            "Kurtosis:                       3.102   Cond. No.                         5.12\n",
            "==============================================================================\n",
            "\n",
            "Warnings:\n",
            "[1] Standard Errors assume that the covariance matrix of the errors is correctly specified.\n"
          ],
          "name": "stdout"
        }
      ]
    },
    {
      "cell_type": "markdown",
      "metadata": {
        "id": "8CJMnhVqYk8O",
        "colab_type": "text"
      },
      "source": [
        "If the beta values were >1 then the stock price would be highly sensitive to the Nifty price.\n",
        "If the beta value is between 0 and 1 then the stock price would have low sensitivity to the nifty price.\n",
        "If the beta value <0 then the stock price would be said to be inversely proportional to Nifty price."
      ]
    },
    {
      "cell_type": "markdown",
      "metadata": {
        "id": "X_dnFkUGZN7n",
        "colab_type": "text"
      },
      "source": [
        "The daily change for first 3 months is highly sensitive as it's beta value is >1.\n",
        "The monthly change is almost as sensitive as the Nifty price change as it's beta value is <1"
      ]
    }
  ]
}