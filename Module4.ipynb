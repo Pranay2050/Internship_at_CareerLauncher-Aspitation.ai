{
  "nbformat": 4,
  "nbformat_minor": 0,
  "metadata": {
    "colab": {
      "name": "tesla4.ipynb",
      "provenance": []
    },
    "kernelspec": {
      "name": "python3",
      "display_name": "Python 3"
    }
  },
  "cells": [
    {
      "cell_type": "code",
      "metadata": {
        "id": "RPK0M-HKV5NI",
        "colab_type": "code",
        "colab": {}
      },
      "source": [
        "import pandas as pd\n",
        "import numpy as np\n",
        "from sklearn.metrics import accuracy_score\n",
        "from sklearn.neural_network import MLPClassifier\n",
        "import matplotlib.pyplot as plt"
      ],
      "execution_count": null,
      "outputs": []
    },
    {
      "cell_type": "markdown",
      "metadata": {
        "id": "JQonXyDRXxX1",
        "colab_type": "text"
      },
      "source": [
        "4.1"
      ]
    },
    {
      "cell_type": "code",
      "metadata": {
        "id": "TbpagIZ9XwxI",
        "colab_type": "code",
        "colab": {}
      },
      "source": [
        "df = pd.read_csv(\"ASHOKA.csv\")\n",
        "\n",
        "ashoka_mean_14=df[['Average Price']].rolling(14,min_periods=1).mean()\n",
        "ashoka_std_14=df[['Average Price']].rolling(14,min_periods=1).std()\n",
        "\n",
        "df['upper'] = ashoka_mean_14 + 2*ashoka_std_14\n",
        "df['lower'] = ashoka_mean_14 - 2*ashoka_std_14\n",
        "df['mid'] = ashoka_mean_14\n",
        "df = df[1:]"
      ],
      "execution_count": null,
      "outputs": []
    },
    {
      "cell_type": "code",
      "metadata": {
        "id": "GnKDuedpajBn",
        "colab_type": "code",
        "colab": {}
      },
      "source": [
        "def call(row):\n",
        "    if row['Close Price'] <= row['lower']: return 'Buy'\n",
        "    elif row['Close Price'] >= row['upper']: return 'Short'\n",
        "    elif row['Close Price'] <  row['mid']:   return 'Hold Buy/Liquidate Short'\n",
        "    elif row['Close Price'] >  row['mid']:   return 'Hold Short/Liquidate Buy'\n",
        "\n",
        "df['call'] = df.apply(call, axis=1)"
      ],
      "execution_count": null,
      "outputs": []
    },
    {
      "cell_type": "code",
      "metadata": {
        "id": "sNcpMa4lZFDC",
        "colab_type": "code",
        "colab": {
          "base_uri": "https://localhost:8080/",
          "height": 34
        },
        "outputId": "2b69a0f8-a392-47ea-d3e7-d9bf678572c1"
      },
      "source": [
        "n = len(df)\n",
        "dft = df[:int(n*0.8)]\n",
        "dfte = df[int(n*0.8):]\n",
        "\n",
        "clf = MLPClassifier(solver='lbfgs', alpha=1e-5,hidden_layer_sizes=(10, 10), random_state=1,max_iter=600)\n",
        "clf.fit(dft[['Close Price','lower','upper','mid']], dft['call'])\n",
        "\n",
        "accuracy_score(dfte['call'], clf.predict(dfte[['Close Price','lower','upper','mid']]))"
      ],
      "execution_count": null,
      "outputs": [
        {
          "output_type": "execute_result",
          "data": {
            "text/plain": [
              "1.0"
            ]
          },
          "metadata": {
            "tags": []
          },
          "execution_count": 149
        }
      ]
    },
    {
      "cell_type": "code",
      "metadata": {
        "id": "hz5FuIkJjxwA",
        "colab_type": "code",
        "colab": {
          "base_uri": "https://localhost:8080/",
          "height": 34
        },
        "outputId": "cde76c6c-d77d-495f-92dd-e3faad5a171c"
      },
      "source": [
        "df2 = pd.read_csv(\"BAJAJELEC.csv\")\n",
        "\n",
        "bajaj_mean_14=df2[['Average Price']].rolling(14,min_periods=1).mean()\n",
        "bajaj_std_14=df2[['Average Price']].rolling(14,min_periods=1).std()\n",
        "\n",
        "df2['upper'] = bajaj_mean_14 + 2*bajaj_std_14\n",
        "df2['lower'] = bajaj_mean_14 - 2*bajaj_std_14\n",
        "df2['mid'] = bajaj_mean_14\n",
        "df2 = df2[1:]\n",
        "\n",
        "df2['call'] = df2.apply(call, axis=1)\n",
        "\n",
        "accuracy_score(df2['call'], clf.predict(df2[['Close Price','lower','upper','mid']]))"
      ],
      "execution_count": null,
      "outputs": [
        {
          "output_type": "execute_result",
          "data": {
            "text/plain": [
              "0.9918864097363083"
            ]
          },
          "metadata": {
            "tags": []
          },
          "execution_count": 150
        }
      ]
    },
    {
      "cell_type": "markdown",
      "metadata": {
        "id": "aSHyeyGwkNM0",
        "colab_type": "text"
      },
      "source": [
        "4.2"
      ]
    },
    {
      "cell_type": "code",
      "metadata": {
        "id": "jqHRq0A5kOCa",
        "colab_type": "code",
        "colab": {
          "base_uri": "https://localhost:8080/",
          "height": 397
        },
        "outputId": "2ac0c990-7e40-4b55-f439-528dc555c569"
      },
      "source": [
        "df = pd.read_csv(\"ASHOKA.csv\")\n",
        "df['oc'] = 100*(df['Close Price']-df['Open Price'])/df['Open Price']\n",
        "df['lh'] = 100*(df['High Price']-df['Low Price'])/df['Low Price']\n",
        "df['mean5']=df[['Close Price']].rolling(5,min_periods=1).mean()\n",
        "df['std5']=df[['Close Price']].rolling(5,min_periods=1).std()\n",
        "df = df[1:]\n",
        "df.head()"
      ],
      "execution_count": null,
      "outputs": [
        {
          "output_type": "execute_result",
          "data": {
            "text/html": [
              "<div>\n",
              "<style scoped>\n",
              "    .dataframe tbody tr th:only-of-type {\n",
              "        vertical-align: middle;\n",
              "    }\n",
              "\n",
              "    .dataframe tbody tr th {\n",
              "        vertical-align: top;\n",
              "    }\n",
              "\n",
              "    .dataframe thead th {\n",
              "        text-align: right;\n",
              "    }\n",
              "</style>\n",
              "<table border=\"1\" class=\"dataframe\">\n",
              "  <thead>\n",
              "    <tr style=\"text-align: right;\">\n",
              "      <th></th>\n",
              "      <th>Symbol</th>\n",
              "      <th>Series</th>\n",
              "      <th>Date</th>\n",
              "      <th>Prev Close</th>\n",
              "      <th>Open Price</th>\n",
              "      <th>High Price</th>\n",
              "      <th>Low Price</th>\n",
              "      <th>Last Price</th>\n",
              "      <th>Close Price</th>\n",
              "      <th>Average Price</th>\n",
              "      <th>Total Traded Quantity</th>\n",
              "      <th>Turnover</th>\n",
              "      <th>No. of Trades</th>\n",
              "      <th>Deliverable Qty</th>\n",
              "      <th>% Dly Qt to Traded Qty</th>\n",
              "      <th>oc</th>\n",
              "      <th>lh</th>\n",
              "      <th>mean5</th>\n",
              "      <th>std5</th>\n",
              "    </tr>\n",
              "  </thead>\n",
              "  <tbody>\n",
              "    <tr>\n",
              "      <th>1</th>\n",
              "      <td>ASHOKA</td>\n",
              "      <td>EQ</td>\n",
              "      <td>16-May-2017</td>\n",
              "      <td>216.05</td>\n",
              "      <td>212.3</td>\n",
              "      <td>216.00</td>\n",
              "      <td>211.00</td>\n",
              "      <td>214.00</td>\n",
              "      <td>214.90</td>\n",
              "      <td>213.24</td>\n",
              "      <td>213214</td>\n",
              "      <td>45466299.10</td>\n",
              "      <td>2860</td>\n",
              "      <td>151941</td>\n",
              "      <td>71.26</td>\n",
              "      <td>1.224682</td>\n",
              "      <td>2.369668</td>\n",
              "      <td>215.475000</td>\n",
              "      <td>0.813173</td>\n",
              "    </tr>\n",
              "    <tr>\n",
              "      <th>2</th>\n",
              "      <td>ASHOKA</td>\n",
              "      <td>EQ</td>\n",
              "      <td>17-May-2017</td>\n",
              "      <td>214.90</td>\n",
              "      <td>214.3</td>\n",
              "      <td>218.70</td>\n",
              "      <td>212.10</td>\n",
              "      <td>216.55</td>\n",
              "      <td>217.00</td>\n",
              "      <td>215.97</td>\n",
              "      <td>383131</td>\n",
              "      <td>82743402.10</td>\n",
              "      <td>3297</td>\n",
              "      <td>261939</td>\n",
              "      <td>68.37</td>\n",
              "      <td>1.259916</td>\n",
              "      <td>3.111740</td>\n",
              "      <td>215.983333</td>\n",
              "      <td>1.051586</td>\n",
              "    </tr>\n",
              "    <tr>\n",
              "      <th>3</th>\n",
              "      <td>ASHOKA</td>\n",
              "      <td>EQ</td>\n",
              "      <td>18-May-2017</td>\n",
              "      <td>217.00</td>\n",
              "      <td>216.0</td>\n",
              "      <td>216.60</td>\n",
              "      <td>208.00</td>\n",
              "      <td>210.00</td>\n",
              "      <td>209.65</td>\n",
              "      <td>211.74</td>\n",
              "      <td>78709</td>\n",
              "      <td>16665707.55</td>\n",
              "      <td>1372</td>\n",
              "      <td>35458</td>\n",
              "      <td>45.05</td>\n",
              "      <td>-2.939815</td>\n",
              "      <td>4.134615</td>\n",
              "      <td>214.400000</td>\n",
              "      <td>3.281006</td>\n",
              "    </tr>\n",
              "    <tr>\n",
              "      <th>4</th>\n",
              "      <td>ASHOKA</td>\n",
              "      <td>EQ</td>\n",
              "      <td>19-May-2017</td>\n",
              "      <td>209.65</td>\n",
              "      <td>212.1</td>\n",
              "      <td>213.90</td>\n",
              "      <td>205.05</td>\n",
              "      <td>206.05</td>\n",
              "      <td>206.25</td>\n",
              "      <td>209.95</td>\n",
              "      <td>398725</td>\n",
              "      <td>83713500.05</td>\n",
              "      <td>2060</td>\n",
              "      <td>301747</td>\n",
              "      <td>75.68</td>\n",
              "      <td>-2.758133</td>\n",
              "      <td>4.316020</td>\n",
              "      <td>212.770000</td>\n",
              "      <td>4.621499</td>\n",
              "    </tr>\n",
              "    <tr>\n",
              "      <th>5</th>\n",
              "      <td>ASHOKA</td>\n",
              "      <td>EQ</td>\n",
              "      <td>22-May-2017</td>\n",
              "      <td>206.25</td>\n",
              "      <td>208.5</td>\n",
              "      <td>209.15</td>\n",
              "      <td>198.95</td>\n",
              "      <td>201.05</td>\n",
              "      <td>201.60</td>\n",
              "      <td>204.11</td>\n",
              "      <td>126516</td>\n",
              "      <td>25822846.35</td>\n",
              "      <td>2941</td>\n",
              "      <td>86762</td>\n",
              "      <td>68.58</td>\n",
              "      <td>-3.309353</td>\n",
              "      <td>5.126916</td>\n",
              "      <td>209.880000</td>\n",
              "      <td>6.278595</td>\n",
              "    </tr>\n",
              "  </tbody>\n",
              "</table>\n",
              "</div>"
            ],
            "text/plain": [
              "   Symbol Series         Date  ...        lh       mean5      std5\n",
              "1  ASHOKA     EQ  16-May-2017  ...  2.369668  215.475000  0.813173\n",
              "2  ASHOKA     EQ  17-May-2017  ...  3.111740  215.983333  1.051586\n",
              "3  ASHOKA     EQ  18-May-2017  ...  4.134615  214.400000  3.281006\n",
              "4  ASHOKA     EQ  19-May-2017  ...  4.316020  212.770000  4.621499\n",
              "5  ASHOKA     EQ  22-May-2017  ...  5.126916  209.880000  6.278595\n",
              "\n",
              "[5 rows x 19 columns]"
            ]
          },
          "metadata": {
            "tags": []
          },
          "execution_count": 151
        }
      ]
    },
    {
      "cell_type": "code",
      "metadata": {
        "id": "rzZ5548mfHJe",
        "colab_type": "code",
        "colab": {}
      },
      "source": [
        "def action(row):\n",
        "    if row['Close Price'] <= row['Prev Close']: return 1\n",
        "    else: return -1\n",
        "\n",
        "df['action'] = df.apply(action, axis=1)"
      ],
      "execution_count": null,
      "outputs": []
    },
    {
      "cell_type": "code",
      "metadata": {
        "id": "aoq2Ll-3iRnG",
        "colab_type": "code",
        "colab": {
          "base_uri": "https://localhost:8080/",
          "height": 34
        },
        "outputId": "3f023a76-f519-4cc8-82a0-a77780ecdf7f"
      },
      "source": [
        "from sklearn.ensemble import RandomForestClassifier\n",
        "\n",
        "n = len(df)\n",
        "dft = df[:int(n*0.8)]\n",
        "dfte = df[int(n*0.8):]\n",
        "\n",
        "clf2 = RandomForestClassifier(random_state=0)\n",
        "clf2.fit(dft[['oc','lh','mean5','std5']], dft['action'])\n",
        "\n",
        "accuracy_score(dfte['action'], clf2.predict(dfte[['oc','lh','mean5','std5']]))"
      ],
      "execution_count": null,
      "outputs": [
        {
          "output_type": "execute_result",
          "data": {
            "text/plain": [
              "0.8585858585858586"
            ]
          },
          "metadata": {
            "tags": []
          },
          "execution_count": 153
        }
      ]
    },
    {
      "cell_type": "code",
      "metadata": {
        "id": "ChwEFbphqEe2",
        "colab_type": "code",
        "colab": {
          "base_uri": "https://localhost:8080/",
          "height": 282
        },
        "outputId": "7e3be92a-d95e-4997-a9d8-651a688c073e"
      },
      "source": [
        "plt.plot(1+(df['oc']/100).cumsum())"
      ],
      "execution_count": null,
      "outputs": [
        {
          "output_type": "execute_result",
          "data": {
            "text/plain": [
              "[<matplotlib.lines.Line2D at 0x7f475cf20390>]"
            ]
          },
          "metadata": {
            "tags": []
          },
          "execution_count": 154
        },
        {
          "output_type": "display_data",
          "data": {
            "image/png": "[encoded data removed]",
            "text/plain": [
              "<Figure size 432x288 with 1 Axes>"
            ]
          },
          "metadata": {
            "tags": [],
            "needs_background": "light"
          }
        }
      ]
    }
  ]
}